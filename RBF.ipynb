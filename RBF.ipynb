{
 "cells": [
  {
   "cell_type": "code",
   "execution_count": 6,
   "metadata": {},
   "outputs": [],
   "source": [
    "import numpy as np\n",
    "import matplotlib.pyplot as plt"
   ]
  },
  {
   "cell_type": "code",
   "execution_count": 7,
   "metadata": {},
   "outputs": [
    {
     "data": {
      "image/png": "[encoded data removed]",
      "text/plain": [
       "<Figure size 432x288 with 1 Axes>"
      ]
     },
     "metadata": {
      "needs_background": "light"
     },
     "output_type": "display_data"
    }
   ],
   "source": [
    "#### part a\n",
    "N = 100\n",
    "size=(N,2)\n",
    "np.random.seed(4)\n",
    "X = np.random.uniform(0,1,size)\n",
    "def label(X):\n",
    "    C1, C2, r = [],[],[]\n",
    "    for x,y in X:\n",
    "        if y < 0.3+0.2*np.sin(10*x) :\n",
    "            r.append(1.)\n",
    "            C1.append([x,y])\n",
    "        elif (y - 0.8)**2 + (x - 0.5)**2 < 0.15**2:\n",
    "            r.append(1.)\n",
    "            C1.append([x,y])\n",
    "        else:\n",
    "            r.append(-1.)\n",
    "            C2.append([x,y])\n",
    "    return np.asarray(r),np.array(C1),np.array(C2)\n",
    "d,C1,C2 = label(X)\n",
    "fig1 = plt.figure()\n",
    "plt.title(\"Data W/O Centers\")\n",
    "plt.scatter(X[:, 0], X[:, 1], c=d, s=25, cmap=plt.cm.coolwarm)\n",
    "plt.show()\n",
    "\n"
   ]
  },
  {
   "cell_type": "code",
   "execution_count": 11,
   "metadata": {},
   "outputs": [],
   "source": [
    "#### part c\n",
    "class RBF(object):\n",
    "    def __init__(self, k, c, sigma = 1e-5, epochs = 1500, lr = 0.1):\n",
    "        self.k = k\n",
    "        self.w = np.random.uniform(0,1,k*2 + 1)\n",
    "        self.c = c\n",
    "        self.sigma = sigma\n",
    "        self.epochs = epochs\n",
    "        self.lr = lr\n",
    "    def gaussian(self,point):\n",
    "        r = [np.exp(-np.power(np.linalg.norm(point - center),2))/self.sigma for center in self.c]\n",
    "        r.insert(0,1)\n",
    "        return np.array(r)\n",
    "\n",
    "    def PTA_algorithm(self,data,label):\n",
    "        error = 0\n",
    "        y=0\n",
    "        for i, p in enumerate(data):\n",
    "            phi = self.gaussian(p)\n",
    "            y= self.w @ phi\n",
    "            g = np.sign(y)\n",
    "            if g*d[i] <= 0:\n",
    "                self.w += self.lr*phi*d[i]\n",
    "                error += 1\n",
    "        return error\n",
    "    \n",
    "    def fit(self,data,label):\n",
    "        e_num = []\n",
    "        error = self.PTA_algorithm(data,label)\n",
    "        e_num.append(error)\n",
    "        while e_num[-1] != 0 and self.epochs > 0:\n",
    "            error = self.PTA_algorithm(data,label)\n",
    "            if error > e_num[-1]:\n",
    "                self.lr *= 0.9\n",
    "            e_num.append(error)\n",
    "            self.epochs -= 1\n",
    "        return e_num\n",
    "\n",
    "    def project(self,data):\n",
    "        score=np.zeros(data.shape[0])\n",
    "        for i in range(data.shape[0]):\n",
    "            g = self.w @self.gaussian(data[i])\n",
    "            if g > 1e-1 or g< -1e-1:\n",
    "                score[i] = g\n",
    "        return score\n",
    "    "
   ]
  },
  {
   "cell_type": "code",
   "execution_count": null,
   "metadata": {},
   "outputs": [],
   "source": [
    "rbf = RBF(10,centers)\n",
    "#rbf = RBF(2,centers) #### part d: within 4 centers\n",
    "e_num = rbf.fit(X,label)\n",
    "#print(e_num)\n",
    "fig2 = plt.figure()\n",
    "x1,x2 =np.meshgrid(np.linspace(0,1,100),np.linspace(0,1,100))\n",
    "x_= np.array([[x1,x2] for x1,x2 in zip(np.ravel(x1),np.ravel(x2))])\n",
    "z=rbf.project(x_).reshape(x1.shape)\n",
    "H = plt.contour(x1,x2,z, [0.0], colors='b', linewidths=3, origin= 'lower')\n",
    "\n"
   ]
  },
  {
   "cell_type": "code",
   "execution_count": null,
   "metadata": {},
   "outputs": [],
   "source": [
    "\n",
    "plt.clabel(H, inline=True, fmt=\" decision Boundary\", fontsize=10)\n",
    "plt.scatter(X[:, 0], X[:, 1], c=d, s=15, cmap=plt.cm.coolwarm)\n",
    "plt.scatter(centers1[:, 0], centers1[:, 1], s=50,color='green',label=\"C$_1$\")\n",
    "plt.scatter(centers2[:, 0], centers2[:, 1],s=50, color='orange',label=\"C$_2$\")\n",
    "plt.title(f\" when k ={k} Centers\")\n",
    "plt.legend()\n",
    "plt.show()\n",
    "fig3 = plt.figure()\n",
    "plt.scatter(centers[:, 0], centers[:, 1], c=dCent, s=25, cmap=plt.cm.RdYlGn)\n",
    "plt.title(\"Centers Figure\")\n",
    "plt.show()\n",
    "\n"
   ]
  },
  {
   "cell_type": "code",
   "execution_count": null,
   "metadata": {},
   "outputs": [],
   "source": []
  }
 ],
 "metadata": {
  "kernelspec": {
   "display_name": "Python 3",
   "language": "python",
   "name": "python3"
  },
  "language_info": {
   "codemirror_mode": {
    "name": "ipython",
    "version": 3
   },
   "file_extension": ".py",
   "mimetype": "text/x-python",
   "name": "python",
   "nbconvert_exporter": "python",
   "pygments_lexer": "ipython3",
   "version": "3.7.4"
  }
 },
 "nbformat": 4,
 "nbformat_minor": 4
}
